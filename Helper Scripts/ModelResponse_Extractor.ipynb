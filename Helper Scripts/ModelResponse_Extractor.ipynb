{
 "cells": [
  {
   "cell_type": "markdown",
   "metadata": {},
   "source": [
    "<h1>Model Response Extractor Script</h1>\n",
    "<h5>This Jupyter Notebook is responsible for extarcting the responses of the chosen models and storing them in a seperate .CSV File</h5>\n",
    "<hr>"
   ]
  },
  {
   "cell_type": "markdown",
   "metadata": {},
   "source": [
    "Importing required libraries:"
   ]
  },
  {
   "cell_type": "code",
   "execution_count": 5,
   "metadata": {},
   "outputs": [],
   "source": [
    "import csv"
   ]
  },
  {
   "cell_type": "markdown",
   "metadata": {},
   "source": [
    "Defining Variables:"
   ]
  },
  {
   "cell_type": "code",
   "execution_count": 6,
   "metadata": {},
   "outputs": [],
   "source": [
    "#Input/Output Paths\n",
    "input_file = r\"\"\n",
    "output_file = r\"\"\n",
    "\n",
    "#Selected Models\n",
    "prefixes = ['M01', 'M06', 'M18', 'M19', 'M21', 'M29', 'M30']"
   ]
  },
  {
   "cell_type": "markdown",
   "metadata": {},
   "source": [
    "Defining the Filter Rows Function:"
   ]
  },
  {
   "cell_type": "code",
   "execution_count": 7,
   "metadata": {},
   "outputs": [],
   "source": [
    "def filter_rows(input_file, output_file, prefixes):\n",
    "    \n",
    "    #Opening the Input File\n",
    "    with open(input_file, 'r', newline='') as csv_file:\n",
    "        #Reading the CSV File\n",
    "        reader = csv.reader(csv_file)\n",
    "        rows_to_write = [] #An Array to hold the Rows that are filtered\n",
    "        #Looping through all the Rows\n",
    "        for row in reader:\n",
    "            #If rows conforms with the Criteria\n",
    "            if row and any(row[0].startswith(prefix) for prefix in prefixes):\n",
    "                #Append thiss specific row to the Array\n",
    "                rows_to_write.append(row)\n",
    "\n",
    "    #Writing to the Output .csv File\n",
    "    with open(output_file, 'w', newline='') as csv_output:\n",
    "        writer = csv.writer(csv_output)\n",
    "        writer.writerows(rows_to_write)"
   ]
  },
  {
   "cell_type": "markdown",
   "metadata": {},
   "source": [
    "Calling the Function:"
   ]
  },
  {
   "cell_type": "code",
   "execution_count": 8,
   "metadata": {},
   "outputs": [],
   "source": [
    "filter_rows(input_file, output_file, prefixes)"
   ]
  },
  {
   "cell_type": "markdown",
   "metadata": {},
   "source": [
    "<b>End</b>"
   ]
  }
 ],
 "metadata": {
  "kernelspec": {
   "display_name": "aci",
   "language": "python",
   "name": "python3"
  },
  "language_info": {
   "codemirror_mode": {
    "name": "ipython",
    "version": 3
   },
   "file_extension": ".py",
   "mimetype": "text/x-python",
   "name": "python",
   "nbconvert_exporter": "python",
   "pygments_lexer": "ipython3",
   "version": "3.10.4"
  }
 },
 "nbformat": 4,
 "nbformat_minor": 2
}
